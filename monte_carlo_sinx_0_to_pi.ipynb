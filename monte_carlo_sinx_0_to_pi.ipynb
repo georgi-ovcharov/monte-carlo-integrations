{
 "cells": [
  {
   "cell_type": "code",
   "execution_count": 19,
   "id": "163634cc",
   "metadata": {},
   "outputs": [
    {
     "name": "stdout",
     "output_type": "stream",
     "text": [
      "The integral from 0 to pi of sin(x):  1.9644740340294211\n"
     ]
    },
    {
     "data": {
      "image/png": "[encoded data removed]",
      "text/plain": [
       "<Figure size 432x288 with 1 Axes>"
      ]
     },
     "metadata": {
      "needs_background": "light"
     },
     "output_type": "display_data"
    }
   ],
   "source": [
    "%matplotlib inline\n",
    "from scipy import random\n",
    "import numpy as np\n",
    "import matplotlib.pyplot as plt\n",
    "\n",
    "a = 0\n",
    "b = np.pi #limits of integration\n",
    "\n",
    "N = 1000\n",
    "\n",
    "areas = []\n",
    "\n",
    "def func(x):\n",
    "    return np.sin(x)\n",
    "\n",
    "for i in range(N):\n",
    "    xrand = random.uniform(a,b,N)\n",
    "    integral = 0.0\n",
    "\n",
    "    for i in range(N):\n",
    "        integral += func(xrand[i])\n",
    "        \n",
    "    answer = (b-a)/float(N)*integral\n",
    "    areas.append(answer)\n",
    "    \n",
    "plt.title(\"Distribution of areas calculated\")    \n",
    "plt.hist(areas, bins = 10, ec = 'white')\n",
    "plt.xlabel(\"Areas\")\n",
    "\n",
    "print (\"The integral from 0 to pi of sin(x): \", answer)"
   ]
  },
  {
   "cell_type": "code",
   "execution_count": null,
   "id": "52897fc0",
   "metadata": {},
   "outputs": [],
   "source": []
  }
 ],
 "metadata": {
  "kernelspec": {
   "display_name": "Python 3",
   "language": "python",
   "name": "python3"
  },
  "language_info": {
   "codemirror_mode": {
    "name": "ipython",
    "version": 3
   },
   "file_extension": ".py",
   "mimetype": "text/x-python",
   "name": "python",
   "nbconvert_exporter": "python",
   "pygments_lexer": "ipython3",
   "version": "3.8.8"
  }
 },
 "nbformat": 4,
 "nbformat_minor": 5
}
