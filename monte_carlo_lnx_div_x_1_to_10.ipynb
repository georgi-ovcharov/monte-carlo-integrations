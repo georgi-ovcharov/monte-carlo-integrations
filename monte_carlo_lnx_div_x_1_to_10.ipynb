{
 "cells": [
  {
   "cell_type": "code",
   "execution_count": 1,
   "id": "92d173e5",
   "metadata": {},
   "outputs": [
    {
     "name": "stdout",
     "output_type": "stream",
     "text": [
      "2.653506315821908\n"
     ]
    }
   ],
   "source": [
    "import math\n",
    "import random\n",
    "\n",
    "def funtion(x):\n",
    "    return math.log(x) / x\n",
    "\n",
    "count = 0.0\n",
    "in_area = 0.0\n",
    "\n",
    "while count < 1000000:\n",
    "\n",
    "    x_coord = random.uniform(1, 10)\n",
    "    y_coord = random.uniform(0, 1/math.e)\n",
    "\n",
    "    if y_coord < funtion(x_coord):\n",
    "        in_area += 1\n",
    "\n",
    "    count += 1\n",
    "\n",
    "area_box = 9 / math.e\n",
    "\n",
    "print ((in_area / count) * area_box)"
   ]
  },
  {
   "cell_type": "code",
   "execution_count": null,
   "id": "1befc402",
   "metadata": {},
   "outputs": [],
   "source": []
  }
 ],
 "metadata": {
  "kernelspec": {
   "display_name": "Python 3",
   "language": "python",
   "name": "python3"
  },
  "language_info": {
   "codemirror_mode": {
    "name": "ipython",
    "version": 3
   },
   "file_extension": ".py",
   "mimetype": "text/x-python",
   "name": "python",
   "nbconvert_exporter": "python",
   "pygments_lexer": "ipython3",
   "version": "3.8.8"
  }
 },
 "nbformat": 4,
 "nbformat_minor": 5
}
